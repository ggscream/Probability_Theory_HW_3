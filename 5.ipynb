{
 "cells": [
  {
   "attachments": {},
   "cell_type": "markdown",
   "metadata": {},
   "source": [
    "Устройство состоит из трех деталей. Для первой детали вероятность выйти из строя в первый месяц равна 0.1, для второй - 0.2, для третьей - 0.25. Какова вероятность того, что в первый месяц выйдут из строя: а). все детали б). только две детали в). хотя бы одна деталь г). от одной до двух деталей?"
   ]
  },
  {
   "cell_type": "code",
   "execution_count": 1,
   "metadata": {},
   "outputs": [
    {
     "name": "stdout",
     "output_type": "stream",
     "text": [
      "0.005000000000000001 0.08000000000000002 0.45999999999999985 0.5399999999999998\n"
     ]
    }
   ],
   "source": [
    "p_first_detail = 0.1\n",
    "p_second_detail = 0.2\n",
    "p_third_detail = 0.25\n",
    "p_all = p_first_detail * p_second_detail * p_third_detail\n",
    "# Вероятность того, что две детали выйдут из строя равна сумме вероятностей того, что любые две выходят из стороя, а оставшаяся нет.\n",
    "p_two = p_first_detail * p_second_detail * (1 - p_third_detail) + p_first_detail * (1 - p_second_detail) * p_third_detail + (1 - p_first_detail) * p_second_detail * p_third_detail\n",
    "#  Вероятность, что хотя бы одна деталь выйдет из строя расчитывается как 1 минус вероятность, что ни одна деталь не выйдет из строя\n",
    "p_none = (1 - p_third_detail) * (1 - p_second_detail) * (1 - p_first_detail) \n",
    "p_one = 1 - p_none\n",
    "p_one_to_two = p_one + p_two\n",
    "\n",
    "print(p_all, p_two, p_one, p_one_to_two)"
   ]
  }
 ],
 "metadata": {
  "kernelspec": {
   "display_name": "Python 3",
   "language": "python",
   "name": "python3"
  },
  "language_info": {
   "codemirror_mode": {
    "name": "ipython",
    "version": 3
   },
   "file_extension": ".py",
   "mimetype": "text/x-python",
   "name": "python",
   "nbconvert_exporter": "python",
   "pygments_lexer": "ipython3",
   "version": "3.8.2"
  },
  "orig_nbformat": 4,
  "vscode": {
   "interpreter": {
    "hash": "31f2aee4e71d21fbe5cf8b01ff0e069b9275f58929596ceb00d14d90e3e16cd6"
   }
  }
 },
 "nbformat": 4,
 "nbformat_minor": 2
}
