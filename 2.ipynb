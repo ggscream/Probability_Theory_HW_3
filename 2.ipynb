{
 "cells": [
  {
   "attachments": {},
   "cell_type": "markdown",
   "metadata": {},
   "source": [
    "В первом ящике находится 8 мячей, из которых 5 - белые. Во втором ящике - 12 мячей, из которых 5 белых. Из первого ящика вытаскивают случайным образом два мяча, из второго - 4. Какова вероятность того, что 3 мяча белые?"
   ]
  },
  {
   "attachments": {},
   "cell_type": "markdown",
   "metadata": {},
   "source": [
    "С учётом вытащенных мячей, 3 белых мяча можно получить вытащив 2 белых из первого ящика и 1 из второго; либо 1 белый из первого и 2 из второго;\n",
    "либо 0 белых из первого и 3 из второго."
   ]
  },
  {
   "cell_type": "code",
   "execution_count": 3,
   "metadata": {},
   "outputs": [],
   "source": [
    "from math import factorial as fac\n",
    "\n",
    "def combination(k, n):\n",
    "    return fac(n) / (fac(k) * fac(n - k))"
   ]
  },
  {
   "cell_type": "code",
   "execution_count": 4,
   "metadata": {},
   "outputs": [
    {
     "name": "stdout",
     "output_type": "stream",
     "text": [
      "0.36868686868686873\n"
     ]
    }
   ],
   "source": [
    "first_all = combination(6, 8) # всего вариантов достать 2 мяча из первого ящика\n",
    "second_all = combination(8, 12) # всего вариантов достать 4 мяча из второго ящика\n",
    "\n",
    "zero_white_first = combination(2, 3) # вариантов достать 0 белых мячей из первого ящика\n",
    "one_white_first = combination(4, 5) * combination(2, 3) # вариантов достать 1 белый мяч из первого ящика\n",
    "two_white_first = combination(2, 5) # вариантов достать 2 белых мяча из первого ящика\n",
    "one_white_second = combination(4, 5) * combination(4, 7) # вариантов достать 1 белый мяч из второго ящика\n",
    "two_white_second = combination(2, 5) * combination(5, 7) # вариантов достать 2 белых мяча из второго ящика\n",
    "three_white_second = combination(2, 5) * combination(6, 7) # вариантов достать 3 белых мяча из второго ящика\n",
    "\n",
    "p = zero_white_first / first_all * three_white_second / second_all + one_white_first / first_all * two_white_second / second_all + two_white_first / first_all * one_white_second / second_all\n",
    "\n",
    "print(p)"
   ]
  }
 ],
 "metadata": {
  "kernelspec": {
   "display_name": "Python 3",
   "language": "python",
   "name": "python3"
  },
  "language_info": {
   "codemirror_mode": {
    "name": "ipython",
    "version": 3
   },
   "file_extension": ".py",
   "mimetype": "text/x-python",
   "name": "python",
   "nbconvert_exporter": "python",
   "pygments_lexer": "ipython3",
   "version": "3.8.2"
  },
  "orig_nbformat": 4,
  "vscode": {
   "interpreter": {
    "hash": "31f2aee4e71d21fbe5cf8b01ff0e069b9275f58929596ceb00d14d90e3e16cd6"
   }
  }
 },
 "nbformat": 4,
 "nbformat_minor": 2
}
